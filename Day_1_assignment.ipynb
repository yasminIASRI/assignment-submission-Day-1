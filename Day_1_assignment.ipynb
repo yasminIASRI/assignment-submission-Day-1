{
  "nbformat": 4,
  "nbformat_minor": 0,
  "metadata": {
    "colab": {
      "name": "Day-1_assignment.ipynb",
      "provenance": []
    },
    "kernelspec": {
      "name": "python3",
      "display_name": "Python 3"
    },
    "language_info": {
      "name": "python"
    }
  },
  "cells": [
    {
      "cell_type": "code",
      "metadata": {
        "colab": {
          "base_uri": "https://localhost:8080/"
        },
        "id": "U6MftqSzpeSQ",
        "outputId": "522eca34-c95b-4b0c-c751-9f3689f2bff6"
      },
      "source": [
        "#assignment_day-1 (write a list in descending order)\n",
        "\n",
        "li=[int(i) for i in input('enter values:').split()]"
      ],
      "execution_count": 1,
      "outputs": [
        {
          "output_type": "stream",
          "text": [
            "enter values:5 89 15 45 7 1 3 6 9 50\n"
          ],
          "name": "stdout"
        }
      ]
    },
    {
      "cell_type": "code",
      "metadata": {
        "colab": {
          "base_uri": "https://localhost:8080/"
        },
        "id": "DcVy-kdMpu4F",
        "outputId": "126231a6-0361-4525-e9b7-4e78d1ac1e21"
      },
      "source": [
        "li.sort()\n",
        "print(li)"
      ],
      "execution_count": 2,
      "outputs": [
        {
          "output_type": "stream",
          "text": [
            "[1, 3, 5, 6, 7, 9, 15, 45, 50, 89]\n"
          ],
          "name": "stdout"
        }
      ]
    },
    {
      "cell_type": "code",
      "metadata": {
        "colab": {
          "base_uri": "https://localhost:8080/"
        },
        "id": "IwNg9N4Yp0vw",
        "outputId": "05af4582-a867-4788-b40d-cf07393fc60f"
      },
      "source": [
        "#descending order\n",
        "\n",
        "li.reverse()\n",
        "print(li)"
      ],
      "execution_count": 3,
      "outputs": [
        {
          "output_type": "stream",
          "text": [
            "[89, 50, 45, 15, 9, 7, 6, 5, 3, 1]\n"
          ],
          "name": "stdout"
        }
      ]
    }
  ]
}